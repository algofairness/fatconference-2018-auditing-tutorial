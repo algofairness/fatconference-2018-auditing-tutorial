{
 "cells": [
  {
   "cell_type": "markdown",
   "metadata": {},
   "source": [
    "# Basic Example\n",
    "\n",
    "First, let's load the libraries and example data:"
   ]
  },
  {
   "cell_type": "code",
   "execution_count": 1,
   "metadata": {},
   "outputs": [],
   "source": [
    "import pandas as pd\n",
    "import BlackBoxAuditing as BBA\n",
    "\n",
    "import pylab\n",
    "%matplotlib inline\n",
    "\n",
    "from BlackBoxAuditing.model_factories import SVM, DecisionTree, NeuralNetwork\n",
    "german_data = BBA.load_data(\"german\")\n",
    "ricci_data = BBA.load_data(\"ricci\")"
   ]
  },
  {
   "cell_type": "markdown",
   "metadata": {},
   "source": [
    "Next, we create an \"Auditor\" object, which will run the model with obscured features in order to check for potential influence. The `Auditor` object needs to know about how to build a model, and so it takes a `model` field. This is a `ModelFactory` instance, and our library provides you with a few predefined choices about this. (TBD: do we want to add a section about how to create a new `ModelFactory` subclass?)\n",
    "\n",
    "It takes a bit of time for this to run (a few seconds per attribute in our laptop):"
   ]
  },
  {
   "cell_type": "code",
   "execution_count": null,
   "metadata": {},
   "outputs": [
    {
     "name": "stdout",
     "output_type": "stream",
     "text": [
      "Training initial model. (15:13:24)\n",
      "Calculating original model statistics on test data:\n",
      "\tTraining Set:\n",
      "\t\tConf-Matrix: {'good': {'good': 453, 'bad': 15}, 'bad': {'bad': 123, 'good': 75}}\n",
      "\t\taccuracy: 0.8648648648648649\n",
      "\t\tBCR: 0.7945804195804196\n",
      "\tTesting Set:\n",
      "\t\tConf-Matrix {'good': {'good': 211, 'bad': 21}, 'bad': {'bad': 37, 'good': 65}}\n",
      "\t\taccuracy: 0.7425149700598802\n",
      "\t\tBCR: 0.6361139283299526\n",
      "Auditing: 'checking_status' (1/20). (15:13:25)\n",
      "Auditing: 'duration' (2/20). (15:13:27)\n",
      "Auditing: 'credit_history' (3/20). (15:13:31)\n",
      "Auditing: 'purpose' (4/20). (15:13:33)\n",
      "Auditing: 'credit_amount' (5/20). (15:13:36)\n"
     ]
    }
   ],
   "source": [
    "auditor = BBA.Auditor()\n",
    "auditor.ModelFactory = SVM\n",
    "auditor(german_data, output_dir=\"german-audit-output\")"
   ]
  },
  {
   "cell_type": "markdown",
   "metadata": {},
   "source": [
    "Our auditing technique always works relatively to some existing model, and some measure of accuracy. The list of ranked features can be different depending on the measure used, and that's sometimes important. Often, however, they tend to correlate fairly strongly:"
   ]
  },
  {
   "cell_type": "code",
   "execution_count": null,
   "metadata": {},
   "outputs": [],
   "source": [
    "bcr_data = pd.read_csv(\"german-audit-output/BCR.png.data\")\n",
    "acc_data = pd.read_csv(\"german-audit-output/accuracy.png.data\")\n",
    "\n",
    "def compute_influence(dataset):\n",
    "    return (dataset.iloc[0][1:] - dataset.iloc[-1][1:])\n",
    "\n",
    "bcr_influence = compute_influence(bcr_data)\n",
    "acc_influence = compute_influence(acc_data)"
   ]
  },
  {
   "cell_type": "code",
   "execution_count": null,
   "metadata": {},
   "outputs": [],
   "source": [
    "pylab.plot(acc_influence, bcr_influence, 'ko')"
   ]
  },
  {
   "cell_type": "markdown",
   "metadata": {},
   "source": [
    "## Loading your own data\n",
    "\n",
    "In order to use your own data with our auditing, you'll probably need to make a few conversions. Our code uses a minimal encoding of this metadata required. Specifically, you will need to tell our code about the types of your columns, and which column is the value to be predicted.\n",
    "\n",
    "Let's create some synthetic data:"
   ]
  },
  {
   "cell_type": "code",
   "execution_count": null,
   "metadata": {},
   "outputs": [],
   "source": [
    "import numpy as np\n",
    "import random\n",
    "import pandas as pd\n",
    "from BlackBoxAuditing.data import load_from_file\n",
    "\n",
    "iq = np.array(np.random.randn(200)) * 20 + 100\n",
    "gender = [random.choice([\"man\", \"woman\"]) for i in range(200)]\n",
    "sat = [i * 10 + (50 if g == \"man\" else 0) for (i, g) in zip(iq, gender)]\n",
    "admit = [\"True\" if s > 1100 else \"False\" for s in sat]\n",
    "\n",
    "df = pd.DataFrame(\n",
    "    {\"admit\": admit,\n",
    "     \"gender\": gender,\n",
    "     \"iq\": iq,\n",
    "     \"sat\": sat})\n",
    "df.to_csv(\"/tmp/test.csv\", \n",
    "          index=False, \n",
    "          columns=['gender', 'admit', 'iq', 'sat']) # Make sure this order matches the order you're loading below\n",
    "synthetic_data = load_from_file(\"/tmp/test.csv\", correct_types = [str, str, float, float], response_header = 'admit')"
   ]
  },
  {
   "cell_type": "markdown",
   "metadata": {},
   "source": [
    "And now we can audit this dataset with one of the existing classifiers:"
   ]
  },
  {
   "cell_type": "code",
   "execution_count": null,
   "metadata": {},
   "outputs": [],
   "source": [
    "auditor = BBA.Auditor()\n",
    "auditor.ModelFactory = SVM\n",
    "auditor(synthetic_data, output_dir=\"synthetic-audit-output\")"
   ]
  },
  {
   "cell_type": "markdown",
   "metadata": {},
   "source": [
    "# Auditing your own model\n",
    "\n",
    "But what if you want to audit your own model? Here we show a very simple example of a (hard-coded) classifier."
   ]
  },
  {
   "cell_type": "code",
   "execution_count": null,
   "metadata": {},
   "outputs": [],
   "source": [
    "from BlackBoxAuditing.model_factories.AbstractModelFactory import AbstractModelFactory\n",
    "from BlackBoxAuditing.model_factories.AbstractModelVisitor import AbstractModelVisitor\n",
    "\n",
    "class SATPredictor(AbstractModelVisitor):\n",
    "    def __init__(self):\n",
    "        pass\n",
    "    def test(self, test_set, test_name=\"\"):\n",
    "        return [(v[1], \"True\" if v[3] > 1100 else \"False\")\n",
    "                for v in test_set]\n",
    "class SATPredictorBuilder(AbstractModelFactory):\n",
    "    def __init__(self, *args, **kwargs):\n",
    "        AbstractModelFactory.__init__(self, *args, **kwargs)\n",
    "        self.verbose_factory_name = \"SATPredictor\"\n",
    "    def build(self, train_set):\n",
    "        return SATPredictor()\n",
    "    \n",
    "auditor = BBA.Auditor()\n",
    "auditor.ModelFactory = SATPredictorBuilder\n",
    "auditor(synthetic_data, output_dir=\"synthetic-audit-output\")"
   ]
  }
 ],
 "metadata": {
  "kernelspec": {
   "display_name": "Python 3",
   "language": "python",
   "name": "python3"
  },
  "language_info": {
   "codemirror_mode": {
    "name": "ipython",
    "version": 3
   },
   "file_extension": ".py",
   "mimetype": "text/x-python",
   "name": "python",
   "nbconvert_exporter": "python",
   "pygments_lexer": "ipython3",
   "version": "3.6.3"
  }
 },
 "nbformat": 4,
 "nbformat_minor": 2
}
